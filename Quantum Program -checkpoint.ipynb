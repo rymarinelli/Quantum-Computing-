{
 "cells": [
  {
   "cell_type": "code",
   "execution_count": 24,
   "metadata": {},
   "outputs": [],
   "source": [
    "import math\n",
    "import qiskit\n",
    "from qiskit import ClassicalRegister, QuantumRegister, QuantumCircuit\n",
    "from qiskit import IBMQ\n",
    "from configparser import RawConfigParser"
   ]
  },
  {
   "cell_type": "code",
   "execution_count": 2,
   "metadata": {},
   "outputs": [
    {
     "data": {
      "text/plain": [
       "<AccountProvider for IBMQ(hub='ibm-q', group='open', project='main')>"
      ]
     },
     "execution_count": 2,
     "metadata": {},
     "output_type": "execute_result"
    }
   ],
   "source": [
    "IBMQ.enable_account('146cd6f95d5f06ac0fd2ab468a43a49ef383e5bccbf9b848cb9aef2d3d4e726fa2959219e72f1850e6511bf4c7bf1c9901bf2843ae23b59e34691bb88c983dc5')"
   ]
  },
  {
   "cell_type": "code",
   "execution_count": 3,
   "metadata": {},
   "outputs": [
    {
     "name": "stdout",
     "output_type": "stream",
     "text": [
      "Running on the simulator.\n",
      "Hello World! {'0': 100}\n"
     ]
    }
   ],
   "source": [
    "\n",
    "# Setup a qubit.\n",
    "qr = QuantumRegister(1)\n",
    "cr = ClassicalRegister(1)\n",
    "program = QuantumCircuit(qr, cr);\n",
    "\n",
    "# Measure the value of the qubit.\n",
    "program.measure(qr, cr);\n",
    "\n",
    "# Execute the program in the simulator.\n",
    "job = qiskit.execute(program, qiskit.Aer.get_backend('qasm_simulator'), shots=100)\n",
    "print(\"Running on the simulator.\")\n",
    "counts = job.result().get_counts()\n",
    "print('Hello World! ' + str(counts))"
   ]
  },
  {
   "cell_type": "code",
   "execution_count": 4,
   "metadata": {},
   "outputs": [
    {
     "name": "stderr",
     "output_type": "stream",
     "text": [
      "C:\\Users\\Ryan\\Anaconda3\\lib\\site-packages\\qiskit\\providers\\ibmq\\ibmqfactory.py:547: DeprecationWarning: IBMQ.backends() is being deprecated. Please use IBMQ.get_provider() to retrieve a provider and AccountProvider.backends() to find its backends.\n",
      "  DeprecationWarning)\n"
     ]
    },
    {
     "name": "stdout",
     "output_type": "stream",
     "text": [
      "Running on ibmq_16_melbourne\n",
      "Hello World! {'0': 99, '1': 1}\n"
     ]
    }
   ],
   "source": [
    "# Execute the program on a real quantum computer.\n",
    "backend = qiskit.providers.ibmq.least_busy(qiskit.IBMQ.backends(simulator=False))\n",
    "print(\"Running on\", backend.name())\n",
    "job = qiskit.execute(program, backend, shots=100)\n",
    "counts = job.result().get_counts()\n",
    "print('Hello World! ' + str(counts))"
   ]
  },
  {
   "cell_type": "code",
   "execution_count": 18,
   "metadata": {},
   "outputs": [],
   "source": [
    "#Defines a helper method \n",
    "type = 'sim' # Run program on the simulator or real quantum machine.\n",
    "def run(program, type):\n",
    "  if type == 'real':\n",
    "    # Setup the API key for the real quantum computer.\n",
    "    IBMQ.enable_account(\"146cd6f95d5f06ac0fd2ab468a43a49ef383e5bccbf9b848cb9aef2d3d4e726fa2959219e72f1850e6511bf4c7bf1c9901bf2843ae23b59e34691bb88c983dc5\", verify=False)\n",
    "    backend = qiskit.providers.ibmq.least_busy(qiskit.IBMQ.backends(simulator=False))\n",
    "    print(\"Running on\", backend.name())\n",
    "    job = qiskit.execute(program, backend)\n",
    "    return job.result().get_counts()\n",
    "  else:\n",
    "    # Execute the program in the simulator.\n",
    "    job = qiskit.execute(program, qiskit.Aer.get_backend('qasm_simulator'))\n",
    "    print(\"Running on the simulator.\")\n",
    "    return job.result().get_counts()"
   ]
  },
  {
   "cell_type": "code",
   "execution_count": 7,
   "metadata": {},
   "outputs": [
    {
     "name": "stdout",
     "output_type": "stream",
     "text": [
      "Running on the simulator.\n",
      "{'00': 1024}\n"
     ]
    }
   ],
   "source": [
    "\n",
    "# Measure 2 qubits in their initial state, all zeros.\n",
    "#\n",
    "# Setup qubits.\n",
    "qr = QuantumRegister(2)\n",
    "cr = ClassicalRegister(2)\n",
    "program = QuantumCircuit(qr, cr);\n",
    "# Measure the value of the qubits in their initial state, they should be all zeros.\n",
    "program.measure(qr, cr);\n",
    "# Execute the program.\n",
    "print(run(program, type))"
   ]
  },
  {
   "cell_type": "code",
   "execution_count": 10,
   "metadata": {},
   "outputs": [
    {
     "name": "stdout",
     "output_type": "stream",
     "text": [
      "Running on the simulator.\n",
      "{'11': 524, '00': 500}\n"
     ]
    }
   ],
   "source": [
    "#Example 2: Create a Bell state \n",
    "#(|00> + |11>), (|00> - |11>), (|01> + |10>), (|01> - |10>):\n",
    "#Entangle 2 qubits, with the first in superposition (existing as 0 and 1 simulataneously or 50% chance of either value) \n",
    "#and measure the results, they should be half 00 and half 11.\n",
    "\n",
    "# Setup qubits.\n",
    "qr = QuantumRegister(2)\n",
    "cr = ClassicalRegister(2)\n",
    "program = QuantumCircuit(qr, cr);\n",
    "# Place the first qubit into a superposition, existing as both 0 and 1 simultaneously.\n",
    "program.h(qr[0])\n",
    "# Entangle the two qubits with a controlled NOT operator. If the first qubit is 1, the second qubit will be inverted. Depending on the initial qubit states, this results in the 4 Bell states (|00> + |11>), (|00> - |11>), (|01> + |10>), (|01> - |10>).\n",
    "program.cx(qr[0], qr[1])\n",
    "# Measure the value of the qubits, they should be equally 00 and 11, one of the Bell states.\n",
    "program.measure(qr, cr);\n",
    "# Execute the program.\n",
    "print(run(program, type))"
   ]
  },
  {
   "cell_type": "code",
   "execution_count": 16,
   "metadata": {},
   "outputs": [
    {
     "name": "stdout",
     "output_type": "stream",
     "text": [
      "Running on the simulator.\n",
      "{'10': 1024}\n"
     ]
    }
   ],
   "source": [
    "# Example 3 \n",
    "# Using super-dense coding, it is using one qubit to represent multiple bits.\n",
    "\n",
    "\n",
    "# Setup qubits.\n",
    "qr = QuantumRegister(2)\n",
    "cr = ClassicalRegister(2)\n",
    "program = QuantumCircuit(qr, cr);\n",
    "# Sender: Place the first qubit into a superposition, existing as both 0 and 1 simultaneously.\n",
    "program.h(qr[0])\n",
    "# Sender: Entangle the two qubits with a controlled NOT operator. If the first qubit is 1, the second qubit will be inverted, otherwise it remains the same.\n",
    "program.cx(qr[0], qr[1])\n",
    "# Sender: Invert the first qubit to set it from 0 to 1 (remember, we're trying to represent 01 by manipulating only a single qubit q[0]).\n",
    "# 00  I  - Identity nothing to do\n",
    "# 01  X  - program.x(qr[0])\n",
    "# 10  Z  - program.z(qr[0])\n",
    "# 11  XZ - program.x(qr[0]) program.z(qr[0])\n",
    "program.x(qr[0])\n",
    "# Receiver: Repeat the controlled NOT operator, reversing the entanglement.\n",
    "program.cx(qr[0], qr[1])\n",
    "# Receiver: Repeat the Hadamard, reversing the superposition state.\n",
    "program.h(qr[0])\n",
    "# Receiver: Measure the value of the qubits, we should get back the original values.\n",
    "program.measure(qr, cr);\n",
    "# Execute the program.\n",
    "print(run(program, type))"
   ]
  }
 ],
 "metadata": {
  "kernelspec": {
   "display_name": "Python 3",
   "language": "python",
   "name": "python3"
  },
  "language_info": {
   "codemirror_mode": {
    "name": "ipython",
    "version": 3
   },
   "file_extension": ".py",
   "mimetype": "text/x-python",
   "name": "python",
   "nbconvert_exporter": "python",
   "pygments_lexer": "ipython3",
   "version": "3.7.1"
  }
 },
 "nbformat": 4,
 "nbformat_minor": 2
}
